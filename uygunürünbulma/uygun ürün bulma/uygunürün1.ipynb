{
  "nbformat": 4,
  "nbformat_minor": 0,
  "metadata": {
    "colab": {
      "provenance": []
    },
    "kernelspec": {
      "name": "python3",
      "display_name": "Python 3"
    },
    "language_info": {
      "name": "python"
    }
  },
  "cells": [
    {
      "cell_type": "code",
      "execution_count": 1,
      "metadata": {
        "id": "So529YOR28oe"
      },
      "outputs": [],
      "source": [
        "import pandas as pd\n",
        "from sklearn.model_selection import train_test_split\n",
        "from sklearn.ensemble import RandomForestClassifier\n",
        "from sklearn.metrics import classification_report, accuracy_score\n",
        "import matplotlib.pyplot as plt\n",
        "import seaborn as sns\n"
      ]
    },
    {
      "cell_type": "code",
      "source": [
        "# Veri setini oku\n",
        "df = pd.read_csv(\"Crop_recommendation.csv\")\n",
        "\n",
        "# Özellikler ve etiket (label) ayrımı\n",
        "X = df.drop(\"label\", axis=1)\n",
        "y = df[\"label\"]\n",
        "\n",
        "# Kategori sayısı\n",
        "print(\"Toplam Ürün Sayısı:\", y.nunique())\n",
        "print(\"Ürünler:\", y.unique())\n"
      ],
      "metadata": {
        "colab": {
          "base_uri": "https://localhost:8080/"
        },
        "id": "x0h0QCaN2_MF",
        "outputId": "c817c348-74e1-48a5-b1f0-bfeffdbb398a"
      },
      "execution_count": 2,
      "outputs": [
        {
          "output_type": "stream",
          "name": "stdout",
          "text": [
            "Toplam Ürün Sayısı: 22\n",
            "Ürünler: ['rice' 'maize' 'chickpea' 'kidneybeans' 'pigeonpeas' 'mothbeans'\n",
            " 'mungbean' 'blackgram' 'lentil' 'pomegranate' 'banana' 'mango' 'grapes'\n",
            " 'watermelon' 'muskmelon' 'apple' 'orange' 'papaya' 'coconut' 'cotton'\n",
            " 'jute' 'coffee']\n"
          ]
        }
      ]
    },
    {
      "cell_type": "code",
      "source": [
        "X_train, X_test, y_train, y_test = train_test_split(\n",
        "    X, y, test_size=0.2, random_state=42, stratify=y\n",
        ")\n"
      ],
      "metadata": {
        "id": "xB8MUK_o2_Ow"
      },
      "execution_count": 3,
      "outputs": []
    },
    {
      "cell_type": "code",
      "source": [
        "model = RandomForestClassifier(n_estimators=50, random_state=42)\n",
        "model.fit(X_train, y_train)\n",
        "\n",
        "# Test seti üzerinde doğruluk\n",
        "y_pred = model.predict(X_test)\n",
        "print(\"Doğruluk Oranı:\", accuracy_score(y_test, y_pred))\n",
        "print(\"\\nSınıflandırma Raporu:\\n\", classification_report(y_test, y_pred))\n"
      ],
      "metadata": {
        "colab": {
          "base_uri": "https://localhost:8080/"
        },
        "id": "vvhfVveX2_RO",
        "outputId": "a9059691-f023-4aa7-9f31-b5408a1ce9fd"
      },
      "execution_count": 4,
      "outputs": [
        {
          "output_type": "stream",
          "name": "stdout",
          "text": [
            "Doğruluk Oranı: 0.9954545454545455\n",
            "\n",
            "Sınıflandırma Raporu:\n",
            "               precision    recall  f1-score   support\n",
            "\n",
            "       apple       1.00      1.00      1.00        20\n",
            "      banana       1.00      1.00      1.00        20\n",
            "   blackgram       1.00      0.95      0.97        20\n",
            "    chickpea       1.00      1.00      1.00        20\n",
            "     coconut       1.00      1.00      1.00        20\n",
            "      coffee       1.00      1.00      1.00        20\n",
            "      cotton       1.00      1.00      1.00        20\n",
            "      grapes       1.00      1.00      1.00        20\n",
            "        jute       0.95      1.00      0.98        20\n",
            " kidneybeans       1.00      1.00      1.00        20\n",
            "      lentil       1.00      1.00      1.00        20\n",
            "       maize       0.95      1.00      0.98        20\n",
            "       mango       1.00      1.00      1.00        20\n",
            "   mothbeans       1.00      1.00      1.00        20\n",
            "    mungbean       1.00      1.00      1.00        20\n",
            "   muskmelon       1.00      1.00      1.00        20\n",
            "      orange       1.00      1.00      1.00        20\n",
            "      papaya       1.00      1.00      1.00        20\n",
            "  pigeonpeas       1.00      1.00      1.00        20\n",
            " pomegranate       1.00      1.00      1.00        20\n",
            "        rice       1.00      0.95      0.97        20\n",
            "  watermelon       1.00      1.00      1.00        20\n",
            "\n",
            "    accuracy                           1.00       440\n",
            "   macro avg       1.00      1.00      1.00       440\n",
            "weighted avg       1.00      1.00      1.00       440\n",
            "\n"
          ]
        }
      ]
    },
    {
      "cell_type": "code",
      "source": [
        "plt.figure(figsize=(10, 6))\n",
        "sns.barplot(x=model.feature_importances_, y=X.columns)\n",
        "plt.title(\"Özellik Önem Skorları\")\n",
        "plt.xlabel(\"Önem\")\n",
        "plt.ylabel(\"Özellik\")\n",
        "plt.grid(True)\n",
        "plt.show()\n"
      ],
      "metadata": {
        "colab": {
          "base_uri": "https://localhost:8080/",
          "height": 564
        },
        "id": "glez__Ol2_Ti",
        "outputId": "0e5ba32d-d8dd-426f-a597-9b7ece9ba4b3"
      },
      "execution_count": 5,
      "outputs": [
        {
          "output_type": "display_data",
          "data": {
            "text/plain": [
              "<Figure size 1000x600 with 1 Axes>"
            ],
            "image/png": "[encoded data removed]"
          },
          "metadata": {}
        }
      ]
    },
    {
      "cell_type": "code",
      "source": [
        "print(\"\\n🌱 Bitki Öneri Sistemi\")\n",
        "n = float(input(\"Topraktaki Azot miktarı (N): \"))\n",
        "p = float(input(\"Topraktaki Fosfor miktarı (P): \"))\n",
        "k = float(input(\"Topraktaki Potasyum miktarı (K): \"))\n",
        "temp = float(input(\"Sıcaklık (°C): \"))\n",
        "hum = float(input(\"Nem (%): \"))\n",
        "ph = float(input(\"Toprak pH değeri: \"))\n",
        "rain = float(input(\"Yağış miktarı (mm): \"))\n",
        "\n",
        "user_input = [[n, p, k, temp, hum, ph, rain]]\n",
        "prediction = model.predict(user_input)[0]\n",
        "\n",
        "print(f\"\\n✅ Önerilen Ürün: **{prediction.upper()}**\")\n"
      ],
      "metadata": {
        "colab": {
          "base_uri": "https://localhost:8080/"
        },
        "id": "e-tlb2qM2_WR",
        "outputId": "a54ac6eb-cf57-45a9-f71b-199a965787ef"
      },
      "execution_count": 6,
      "outputs": [
        {
          "output_type": "stream",
          "name": "stdout",
          "text": [
            "\n",
            "🌱 Bitki Öneri Sistemi\n",
            "Topraktaki Azot miktarı (N): 0.10\n",
            "Topraktaki Fosfor miktarı (P): 0.5\n",
            "Topraktaki Potasyum miktarı (K): 3\n",
            "Sıcaklık (°C): 2\n",
            "Nem (%): 5\n",
            "Toprak pH değeri: 2\n",
            "Yağış miktarı (mm): 1\n",
            "\n",
            "✅ Önerilen Ürün: **KIDNEYBEANS**\n"
          ]
        },
        {
          "output_type": "stream",
          "name": "stderr",
          "text": [
            "/usr/local/lib/python3.11/dist-packages/sklearn/utils/validation.py:2739: UserWarning: X does not have valid feature names, but RandomForestClassifier was fitted with feature names\n",
            "  warnings.warn(\n"
          ]
        }
      ]
    }
  ]
}